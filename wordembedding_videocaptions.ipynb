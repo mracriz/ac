{
  "nbformat": 4,
  "nbformat_minor": 0,
  "metadata": {
    "colab": {
      "name": "wordembedding_videocaptions.ipynb",
      "provenance": [],
      "authorship_tag": "ABX9TyNoIyk0XbHyzbINGRNAH75p",
      "include_colab_link": true
    },
    "kernelspec": {
      "name": "python3",
      "display_name": "Python 3"
    },
    "language_info": {
      "name": "python"
    }
  },
  "cells": [
    {
      "cell_type": "markdown",
      "metadata": {
        "id": "view-in-github",
        "colab_type": "text"
      },
      "source": [
        "<a href=\"https://colab.research.google.com/github/mracriz/ac/blob/master/wordembedding_videocaptions.ipynb\" target=\"_parent\"><img src=\"https://colab.research.google.com/assets/colab-badge.svg\" alt=\"Open In Colab\"/></a>"
      ]
    },
    {
      "cell_type": "markdown",
      "metadata": {
        "id": "oRYLAiheyAmd"
      },
      "source": [
        "###Imports"
      ]
    },
    {
      "cell_type": "code",
      "metadata": {
        "id": "Eew0JESugUwX"
      },
      "source": [
        "import pandas as pd\n",
        "import numpy as np"
      ],
      "execution_count": null,
      "outputs": []
    },
    {
      "cell_type": "code",
      "metadata": {
        "id": "4QjHUvDnvRDb"
      },
      "source": [
        "cols_names = ['id','title','channel','date_p','description','views','likes','dislikes','comments','captions']"
      ],
      "execution_count": null,
      "outputs": []
    },
    {
      "cell_type": "markdown",
      "metadata": {
        "id": "ZKwd8LBkx5AN"
      },
      "source": [
        "###Dataframe com dados que indicam desinformacao"
      ]
    },
    {
      "cell_type": "code",
      "metadata": {
        "colab": {
          "base_uri": "https://localhost:8080/",
          "height": 289
        },
        "id": "W3f0rRu1axnv",
        "outputId": "a4e18b6a-d6b3-4def-9ddf-bac5b30cc895"
      },
      "source": [
        "df_1 = pd.read_csv('desinformacao.txt', sep=';', names=cols_names)\n",
        "label_1 = np.linspace(1,1,df_1.shape[0],dtype='int')\n",
        "df_1['label'] = label_1\n",
        "df_1.head(5)"
      ],
      "execution_count": null,
      "outputs": [
        {
          "output_type": "execute_result",
          "data": {
            "text/html": [
              "<div>\n",
              "<style scoped>\n",
              "    .dataframe tbody tr th:only-of-type {\n",
              "        vertical-align: middle;\n",
              "    }\n",
              "\n",
              "    .dataframe tbody tr th {\n",
              "        vertical-align: top;\n",
              "    }\n",
              "\n",
              "    .dataframe thead th {\n",
              "        text-align: right;\n",
              "    }\n",
              "</style>\n",
              "<table border=\"1\" class=\"dataframe\">\n",
              "  <thead>\n",
              "    <tr style=\"text-align: right;\">\n",
              "      <th></th>\n",
              "      <th>id</th>\n",
              "      <th>title</th>\n",
              "      <th>channel</th>\n",
              "      <th>date_p</th>\n",
              "      <th>description</th>\n",
              "      <th>views</th>\n",
              "      <th>likes</th>\n",
              "      <th>dislikes</th>\n",
              "      <th>comments</th>\n",
              "      <th>captions</th>\n",
              "      <th>label</th>\n",
              "    </tr>\n",
              "  </thead>\n",
              "  <tbody>\n",
              "    <tr>\n",
              "      <th>0</th>\n",
              "      <td>iBkc0ZhnKNk</td>\n",
              "      <td>Bolsonaro fala sobre Semipresidencialismo, Car...</td>\n",
              "      <td>Foco do Brasil</td>\n",
              "      <td>2021-11-22T12:56:43Z</td>\n",
              "      <td>As notícias e ações do Presidente Jair Bolsona...</td>\n",
              "      <td>54796.0</td>\n",
              "      <td>430962</td>\n",
              "      <td>592.0</td>\n",
              "      <td>3871</td>\n",
              "      <td>[{'text': 'eb1', 'start': 0.12, 'duration': 7....</td>\n",
              "      <td>1</td>\n",
              "    </tr>\n",
              "    <tr>\n",
              "      <th>1</th>\n",
              "      <td>jKRLLlRH7u4</td>\n",
              "      <td>Bolsonaro diz que Moro não aprendeu nada, fala...</td>\n",
              "      <td>Foco do Brasil</td>\n",
              "      <td>2021-11-11T13:04:06Z</td>\n",
              "      <td>As notícias e ações do Presidente Jair Bolsona...</td>\n",
              "      <td>20476.0</td>\n",
              "      <td>124783</td>\n",
              "      <td>231.0</td>\n",
              "      <td>1449</td>\n",
              "      <td>[{'text': 'o presidente acompanhada por que a'...</td>\n",
              "      <td>1</td>\n",
              "    </tr>\n",
              "    <tr>\n",
              "      <th>2</th>\n",
              "      <td>LIGimPNbkNg</td>\n",
              "      <td>- Entrevista: Rádio Cultura FM (ES)</td>\n",
              "      <td>Jair Bolsonaro</td>\n",
              "      <td>2021-11-10T13:13:06Z</td>\n",
              "      <td>TEMAS: . A VERDADE SOBRE PRECATÓRIOS . GÁS DE ...</td>\n",
              "      <td>12779.0</td>\n",
              "      <td>49091</td>\n",
              "      <td>196.0</td>\n",
              "      <td>814</td>\n",
              "      <td>[{'text': 'oi', 'start': 0.0, 'duration': 3.65...</td>\n",
              "      <td>1</td>\n",
              "    </tr>\n",
              "    <tr>\n",
              "      <th>3</th>\n",
              "      <td>_kGgQToWUNA</td>\n",
              "      <td>Bolsonaro fala sobre PL, Sabatina, Voto Eletrô...</td>\n",
              "      <td>Foco do Brasil</td>\n",
              "      <td>2021-11-09T13:16:17Z</td>\n",
              "      <td>As notícias e ações do Presidente Jair Bolsona...</td>\n",
              "      <td>45168.0</td>\n",
              "      <td>434220</td>\n",
              "      <td>696.0</td>\n",
              "      <td>2580</td>\n",
              "      <td>[{'text': 'Bom', 'start': 0.0, 'duration': 5.8...</td>\n",
              "      <td>1</td>\n",
              "    </tr>\n",
              "    <tr>\n",
              "      <th>4</th>\n",
              "      <td>nNYzVzCPXBY</td>\n",
              "      <td>Bolsonaro fala em encontro com a Globo em 2022...</td>\n",
              "      <td>Foco do Brasil</td>\n",
              "      <td>2021-11-22T23:26:53Z</td>\n",
              "      <td>As notícias e ações do Presidente Jair Bolsona...</td>\n",
              "      <td>27599.0</td>\n",
              "      <td>224756</td>\n",
              "      <td>334.0</td>\n",
              "      <td>1694</td>\n",
              "      <td>[{'text': 'E aí', 'start': 0.0, 'duration': 7....</td>\n",
              "      <td>1</td>\n",
              "    </tr>\n",
              "  </tbody>\n",
              "</table>\n",
              "</div>"
            ],
            "text/plain": [
              "             id  ... label\n",
              "0   iBkc0ZhnKNk  ...     1\n",
              "1   jKRLLlRH7u4  ...     1\n",
              "2   LIGimPNbkNg  ...     1\n",
              "3   _kGgQToWUNA  ...     1\n",
              "4   nNYzVzCPXBY  ...     1\n",
              "\n",
              "[5 rows x 11 columns]"
            ]
          },
          "metadata": {},
          "execution_count": 3
        }
      ]
    },
    {
      "cell_type": "markdown",
      "metadata": {
        "id": "PBawDJYLx-qw"
      },
      "source": [
        "###Dataframe com dados que indicam informacao"
      ]
    },
    {
      "cell_type": "code",
      "metadata": {
        "id": "rHqgJ2YkhDOS",
        "colab": {
          "base_uri": "https://localhost:8080/",
          "height": 204
        },
        "outputId": "cbaae7d9-110d-42fc-d043-ad1225b50c07"
      },
      "source": [
        "df_2 = pd.read_csv('informacao.txt',sep = ';',names=cols_names)\n",
        "label_2 = np.linspace(0,0,df_2.shape[0],dtype='int')\n",
        "df_2['label'] = label_2\n",
        "df_2.head(5)"
      ],
      "execution_count": null,
      "outputs": [
        {
          "output_type": "execute_result",
          "data": {
            "text/html": [
              "<div>\n",
              "<style scoped>\n",
              "    .dataframe tbody tr th:only-of-type {\n",
              "        vertical-align: middle;\n",
              "    }\n",
              "\n",
              "    .dataframe tbody tr th {\n",
              "        vertical-align: top;\n",
              "    }\n",
              "\n",
              "    .dataframe thead th {\n",
              "        text-align: right;\n",
              "    }\n",
              "</style>\n",
              "<table border=\"1\" class=\"dataframe\">\n",
              "  <thead>\n",
              "    <tr style=\"text-align: right;\">\n",
              "      <th></th>\n",
              "      <th>id</th>\n",
              "      <th>title</th>\n",
              "      <th>channel</th>\n",
              "      <th>date_p</th>\n",
              "      <th>description</th>\n",
              "      <th>views</th>\n",
              "      <th>likes</th>\n",
              "      <th>dislikes</th>\n",
              "      <th>comments</th>\n",
              "      <th>captions</th>\n",
              "      <th>label</th>\n",
              "    </tr>\n",
              "  </thead>\n",
              "  <tbody>\n",
              "    <tr>\n",
              "      <th>0</th>\n",
              "      <td>lAVT0SO8QIE</td>\n",
              "      <td>Expectativa de vida sobe para 76,8 anos, apesa...</td>\n",
              "      <td>Band Jornalismo</td>\n",
              "      <td>2021-11-25T13:37:36Z</td>\n",
              "      <td>Aumentou a expectativa de vida no Brasil, segu...</td>\n",
              "      <td>19</td>\n",
              "      <td>602</td>\n",
              "      <td>4</td>\n",
              "      <td>2</td>\n",
              "      <td>[{'text': 'há 10 horas 32 minutinhos agora Aum...</td>\n",
              "      <td>0</td>\n",
              "    </tr>\n",
              "    <tr>\n",
              "      <th>1</th>\n",
              "      <td>S1gjCQvfgqM</td>\n",
              "      <td>Câmara pode votar hoje (25) MP do Auxílio Brasil</td>\n",
              "      <td>Band Jornalismo</td>\n",
              "      <td>2021-11-25T14:37:19Z</td>\n",
              "      <td>A Câmara dos Deputados pode votar hoje (25) a ...</td>\n",
              "      <td>6</td>\n",
              "      <td>29</td>\n",
              "      <td>0</td>\n",
              "      <td>0</td>\n",
              "      <td>[{'text': 'e a Câmara dos Deputados começa a S...</td>\n",
              "      <td>0</td>\n",
              "    </tr>\n",
              "    <tr>\n",
              "      <th>2</th>\n",
              "      <td>CzaInrkjIjk</td>\n",
              "      <td>Maiores de 18 anos poderão receber dose reforç...</td>\n",
              "      <td>Band Jornalismo</td>\n",
              "      <td>2021-11-25T12:48:34Z</td>\n",
              "      <td>A partir de sábado (27) , todos os adultos mai...</td>\n",
              "      <td>10</td>\n",
              "      <td>99</td>\n",
              "      <td>0</td>\n",
              "      <td>1</td>\n",
              "      <td>[{'text': 'a partir de sábado também falando d...</td>\n",
              "      <td>0</td>\n",
              "    </tr>\n",
              "    <tr>\n",
              "      <th>3</th>\n",
              "      <td>tBmFEEVKJcE</td>\n",
              "      <td>Série documental sobre os Beatles estreia hoje...</td>\n",
              "      <td>Band Jornalismo</td>\n",
              "      <td>2021-11-25T12:56:34Z</td>\n",
              "      <td>Um novo documentário sobre os Beatles estreia ...</td>\n",
              "      <td>8</td>\n",
              "      <td>99</td>\n",
              "      <td>0</td>\n",
              "      <td>0</td>\n",
              "      <td>[{'text': 'é normal mas como ninguém Nem tudo ...</td>\n",
              "      <td>0</td>\n",
              "    </tr>\n",
              "    <tr>\n",
              "      <th>4</th>\n",
              "      <td>jjp3HkcjkaQ</td>\n",
              "      <td>Alemanha supera 100 mil mortes e bate recorde</td>\n",
              "      <td>Band Jornalismo</td>\n",
              "      <td>2021-11-25T12:44:59Z</td>\n",
              "      <td>A Alemanha superou hoje (25) o número de 100 m...</td>\n",
              "      <td>20</td>\n",
              "      <td>256</td>\n",
              "      <td>1</td>\n",
              "      <td>4</td>\n",
              "      <td>[{'text': 'algumas notícias aí espalhadas pelo...</td>\n",
              "      <td>0</td>\n",
              "    </tr>\n",
              "  </tbody>\n",
              "</table>\n",
              "</div>"
            ],
            "text/plain": [
              "             id  ... label\n",
              "0   lAVT0SO8QIE  ...     0\n",
              "1   S1gjCQvfgqM  ...     0\n",
              "2   CzaInrkjIjk  ...     0\n",
              "3   tBmFEEVKJcE  ...     0\n",
              "4   jjp3HkcjkaQ  ...     0\n",
              "\n",
              "[5 rows x 11 columns]"
            ]
          },
          "metadata": {},
          "execution_count": 4
        }
      ]
    },
    {
      "cell_type": "markdown",
      "metadata": {
        "id": "JnBvhe0WyKUy"
      },
      "source": [
        "###Dados antes de serem processados"
      ]
    },
    {
      "cell_type": "code",
      "metadata": {
        "colab": {
          "base_uri": "https://localhost:8080/",
          "height": 103
        },
        "id": "gMHeLsshwuwl",
        "outputId": "32138732-7935-4a82-e994-d4739ea0fb7c"
      },
      "source": [
        "df_1.iloc[0,9]"
      ],
      "execution_count": null,
      "outputs": [
        {
          "output_type": "execute_result",
          "data": {
            "application/vnd.google.colaboratory.intrinsic+json": {
              "type": "string"
            },
            "text/plain": [
              "\"[{'text': 'eb1', 'start': 0.12, 'duration': 7.35}, {'text': '[Música]', 'start': 2.28, 'duration': 7.19}, {'text': 'E', 'start': 7.47, 'duration': 2.0}, {'text': 'aí', 'start': 13.219, 'duration': 3.0}, {'text': 'Maurício', 'start': 22.4, 'duration': 3.0}, {'text': 'Olha o', 'start': 25.429, 'duration': 5.731}, {'text': 'céu', 'start': 28.279, 'duration': 5.851}, {'text': 'vou ensinar a jogar vôlei que a', 'start': 31.16, 'duration': 6.06}, {'text': 'senhora tá meio devagar hein', 'start': 34.13, 'duration': 6.15}, {'text': '[Música]', 'start': 37.22, 'duration': 3.06}, {'text': '[Risadas]', 'start': 50.36, 'duration': 4.9}, {'text': 'nós', 'start': 53.44, 'duration': 4.82}, {'text': 'vamos', 'start': 55.26, 'duration': 3.0}, {'text': 'fazer essa', 'start': 58.289, 'duration': 4.54}, {'text': 'você que vou sair candidato deputado', 'start': 60.839, 'duration': 5.051}, {'text': 'federal e', 'start': 62.829, 'duration': 3.061}, {'text': 'o', 'start': 71.95, 'duration': 3.89}, {'text': 'prefeito', 'start': 72.84, 'duration': 3.0}, {'text': 'eleito de 71 anos filho', 'start': 76.56, 'duration': 5.07}, {'text': 'Olha moça', 'start': 88.979, 'duration': 5.611}, {'text': 'Oi bom dia Sérgio tudo bem', 'start': 91.02, 'duration': 5.12}, {'text': 'e', 'start': 94.59, 'duration': 4.58}, {'text': '48 vai filha', 'start': 96.14, 'duration': 8.56}, {'text': 'o meu Deus obrigado a', 'start': 99.17, 'duration': 5.53}, {'text': 'e olha a gente vai ter que não mas você', 'start': 105.33, 'duration': 5.03}, {'text': 'vai que vai sorrir você achou no sábado', 'start': 112.07, 'duration': 5.4}, {'text': 'e', 'start': 115.17, 'duration': 2.3}, {'text': 'que Deus abençoe vai vir vai você', 'start': 129.34, 'duration': 6.02}, {'text': 'vem você', 'start': 137.25, 'duration': 3.09}, {'text': 'certinho o', 'start': 147.42, 'duration': 4.0}, {'text': 'e obrigado', 'start': 153.44, 'duration': 4.47}, {'text': 'tirava mental do Estado do Rio de', 'start': 155.92, 'duration': 4.36}, {'text': 'Janeiro continua em seu apoio inclusivas', 'start': 157.91, 'duration': 6.87}, {'text': 'veteranos Total apoio ao senhor tá ela', 'start': 160.28, 'duration': 6.18}, {'text': 'dá umas hoje eu vou dar uma carona até', 'start': 164.78, 'duration': 3.78}, {'text': 'pena eu sou reformados os adiante', 'start': 166.46, 'duration': 4.8}, {'text': 'veteranos da Polícia Militar quatro do', 'start': 168.56, 'duration': 7.01}, {'text': 'batalhão bar é servido a maré vermelha', 'start': 171.26, 'duration': 6.9}, {'text': '2232 serviço sete anos a última gestão', 'start': 175.57, 'duration': 6.52}, {'text': 'Coronel Álvaro García a ver é E servir', 'start': 178.16, 'duration': 6.6}, {'text': 'no sexto Batalhão servindo 14º Batalhão', 'start': 182.09, 'duration': 5.81}, {'text': 'e finalizei quando tiver um câncer né em', 'start': 184.76, 'duration': 6.39}, {'text': '2013 Sou um Milagre igual sua fui curado', 'start': 187.9, 'duration': 6.4}, {'text': 'em 2016 ou reformados ele 46 nódulos do', 'start': 191.15, 'duration': 6.33}, {'text': 'pescoço as partes da liderança e apoia o', 'start': 194.3, 'duration': 5.79}, {'text': 'senhor em todos esses batalhões graças a', 'start': 197.48, 'duration': 5.16}, {'text': 'Deus tem um nome tá bom Deus continue', 'start': 200.09, 'duration': 4.68}, {'text': 'abençoando o senhor segurando firme nas', 'start': 202.64, 'duration': 4.64}, {'text': 'suas mãos', 'start': 204.77, 'duration': 2.51}, {'text': 'do Ceará sou amigo do', 'start': 207.7, 'duration': 7.75}, {'text': 'das Cavalcanti a E', 'start': 210.67, 'duration': 4.78}, {'text': '[Música]', 'start': 217.54, 'duration': 5.419}, {'text': 'aí ó', 'start': 218.959, 'duration': 4.0}, {'text': 'o nosso presente toda a mais linda', 'start': 252.22, 'duration': 4.82}, {'text': 'música', 'start': 254.68, 'duration': 2.36}, {'text': 'cantada', 'start': 257.7, 'duration': 7.41}, {'text': 'por gentileza Pedro II', 'start': 260.579, 'duration': 9.09}, {'text': 'e olha seu amigo aí', 'start': 265.11, 'duration': 4.559}, {'text': 'o', 'start': 277.32, 'duration': 2.0}, {'text': 'produto', 'start': 279.47, 'duration': 4.539}, {'text': 'lá na frente', 'start': 281.93, 'duration': 5.25}, {'text': 'o cavalo Paraná Fátima para', 'start': 284.009, 'duration': 9.351}, {'text': 'lubrificar vou usar agora tá fechada lá', 'start': 287.18, 'duration': 6.18}, {'text': 'estamos trabalhando', 'start': 301.189, 'duration': 3.45}, {'text': 'tem uns 10 produtos', 'start': 307.669, 'duration': 6.911}, {'text': 'pelos 81', 'start': 310.58, 'duration': 4.0}, {'text': 'E aí ó olha', 'start': 324.79, 'duration': 5.21}, {'text': 'para fazer', 'start': 326.79, 'duration': 3.21}, {'text': 'uma oração', 'start': 350.79, 'duration': 3.12}, {'text': 'Vamos fazer uma oração aqui senhor Deus', 'start': 354.12, 'duration': 6.21}, {'text': 'é eterno Pai que estáis no céus', 'start': 358.03, 'duration': 5.1}, {'text': 'muito obrigado porque aqui temos uma', 'start': 360.33, 'duration': 6.46}, {'text': 'pessoa que assumiu o poder por tua graça', 'start': 363.13, 'duration': 6.39}, {'text': 'e misericórdia e quero senhor neste', 'start': 366.79, 'duration': 5.7}, {'text': 'momento pedir uma benção sobre ele sobre', 'start': 369.52, 'duration': 5.91}, {'text': 'a sua família e sobre todo o seu', 'start': 372.49, 'duration': 5.43}, {'text': 'ministério para que ele tenha sabedoria', 'start': 375.43, 'duration': 4.73}, {'text': 'discernimento', 'start': 377.92, 'duration': 6.15}, {'text': 'humildade e poder senhor para dirigir', 'start': 380.16, 'duration': 7.129}, {'text': 'Esta Nação é muito obrigado em Cristo', 'start': 384.07, 'duration': 7.45}, {'text': 'Jesus amém e', 'start': 387.289, 'duration': 4.231}, {'text': 'E aí', 'start': 397.94, 'duration': 6.25}, {'text': 'eu é que não Paulo para Campinas e', 'start': 399.1, 'duration': 5.09}, {'text': '[Risadas]', 'start': 427.71, 'duration': 5.21}, {'text': 'é um abraço e tem até 40 anos já vai', 'start': 434.02, 'duration': 11.09}, {'text': '[Risadas]', 'start': 438.45, 'duration': 6.66}, {'text': 'começar segunda-feira a', 'start': 453.75, 'duration': 13.17}, {'text': '[Risadas]', 'start': 457.53, 'duration': 9.39}, {'text': 'E aí', 'start': 470.24, 'duration': 2.06}, {'text': 'o maior presidente da história do', 'start': 472.969, 'duration': 4.58}, {'text': 'Cruzeiro', 'start': 475.249, 'duration': 2.3}, {'text': 'foi boa não é', 'start': 478.029, 'duration': 4.23}, {'text': 'a', 'start': 485.79, 'duration': 4.19}, {'text': 'entender', 'start': 486.98, 'duration': 3.0}, {'text': 'sim alma para mim tira uma vez aqui ó', 'start': 491.0, 'duration': 8.56}, {'text': 'E aí', 'start': 496.969, 'duration': 5.241}, {'text': 'E aí', 'start': 499.56, 'duration': 7.63}, {'text': 'o meu celular agora agora não é', 'start': 502.21, 'duration': 4.98}, {'text': 'oh', 'start': 508.16, 'duration': 5.22}, {'text': 'alô aqui para dar uma força aí dá uma', 'start': 509.23, 'duration': 7.33}, ...]\""
            ]
          },
          "metadata": {},
          "execution_count": 5
        }
      ]
    },
    {
      "cell_type": "code",
      "metadata": {
        "id": "l0Hlznuxsdjh"
      },
      "source": [
        "def processa_frases(dataset):\n",
        "  \n",
        "  n_linhas = dataset.shape[0]\n",
        "\n",
        "  todas_palavras = []\n",
        "\n",
        "  for h in range(n_linhas):\n",
        "    \n",
        "    aux = dataset.captions.values[h]\n",
        "    palavras = []\n",
        "    txt = aux.split(', ')\n",
        "    \n",
        "    for i in range(0,len(txt),3):\n",
        "      if i == 0:\n",
        "        txt[i] = txt[i].replace('[','')\n",
        "      if i == len(txt) - 1:\n",
        "        txt[i] = txt[i].replace(']','')\n",
        "      txt[i] = txt[i].replace('{\\'text\\': ','')\n",
        "      txt[i] = txt[i].replace('\\'','')\n",
        "      palavras.append(txt[i])\n",
        "\n",
        "    string_final = ' '.join(map(str, palavras))\n",
        "    dataset.iloc[h,9] = string_final\n",
        "  \n",
        "  return dataset"
      ],
      "execution_count": null,
      "outputs": []
    },
    {
      "cell_type": "code",
      "metadata": {
        "id": "wiKok82bxfCc"
      },
      "source": [
        "df_1 = processa_frases(df_1)\n",
        "df_2 = processa_frases(df_2)"
      ],
      "execution_count": null,
      "outputs": []
    },
    {
      "cell_type": "markdown",
      "metadata": {
        "id": "sqpJxcd-yTZR"
      },
      "source": [
        "###Dados depois de serem processados"
      ]
    },
    {
      "cell_type": "code",
      "metadata": {
        "colab": {
          "base_uri": "https://localhost:8080/",
          "height": 289
        },
        "id": "gQnrPAl7xiOq",
        "outputId": "efedff52-6352-4a15-ffcb-7ad074e877bd"
      },
      "source": [
        "df_1.head(5)"
      ],
      "execution_count": null,
      "outputs": [
        {
          "output_type": "execute_result",
          "data": {
            "text/html": [
              "<div>\n",
              "<style scoped>\n",
              "    .dataframe tbody tr th:only-of-type {\n",
              "        vertical-align: middle;\n",
              "    }\n",
              "\n",
              "    .dataframe tbody tr th {\n",
              "        vertical-align: top;\n",
              "    }\n",
              "\n",
              "    .dataframe thead th {\n",
              "        text-align: right;\n",
              "    }\n",
              "</style>\n",
              "<table border=\"1\" class=\"dataframe\">\n",
              "  <thead>\n",
              "    <tr style=\"text-align: right;\">\n",
              "      <th></th>\n",
              "      <th>id</th>\n",
              "      <th>title</th>\n",
              "      <th>channel</th>\n",
              "      <th>date_p</th>\n",
              "      <th>description</th>\n",
              "      <th>views</th>\n",
              "      <th>likes</th>\n",
              "      <th>dislikes</th>\n",
              "      <th>comments</th>\n",
              "      <th>captions</th>\n",
              "      <th>label</th>\n",
              "    </tr>\n",
              "  </thead>\n",
              "  <tbody>\n",
              "    <tr>\n",
              "      <th>0</th>\n",
              "      <td>iBkc0ZhnKNk</td>\n",
              "      <td>Bolsonaro fala sobre Semipresidencialismo, Car...</td>\n",
              "      <td>Foco do Brasil</td>\n",
              "      <td>2021-11-22T12:56:43Z</td>\n",
              "      <td>As notícias e ações do Presidente Jair Bolsona...</td>\n",
              "      <td>54796.0</td>\n",
              "      <td>430962</td>\n",
              "      <td>592.0</td>\n",
              "      <td>3871</td>\n",
              "      <td>eb1 [Música] E aí Maurício Olha o céu vou ensi...</td>\n",
              "      <td>1</td>\n",
              "    </tr>\n",
              "    <tr>\n",
              "      <th>1</th>\n",
              "      <td>jKRLLlRH7u4</td>\n",
              "      <td>Bolsonaro diz que Moro não aprendeu nada, fala...</td>\n",
              "      <td>Foco do Brasil</td>\n",
              "      <td>2021-11-11T13:04:06Z</td>\n",
              "      <td>As notícias e ações do Presidente Jair Bolsona...</td>\n",
              "      <td>20476.0</td>\n",
              "      <td>124783</td>\n",
              "      <td>231.0</td>\n",
              "      <td>1449</td>\n",
              "      <td>o presidente acompanhada por que a imprensa nã...</td>\n",
              "      <td>1</td>\n",
              "    </tr>\n",
              "    <tr>\n",
              "      <th>2</th>\n",
              "      <td>LIGimPNbkNg</td>\n",
              "      <td>- Entrevista: Rádio Cultura FM (ES)</td>\n",
              "      <td>Jair Bolsonaro</td>\n",
              "      <td>2021-11-10T13:13:06Z</td>\n",
              "      <td>TEMAS: . A VERDADE SOBRE PRECATÓRIOS . GÁS DE ...</td>\n",
              "      <td>12779.0</td>\n",
              "      <td>49091</td>\n",
              "      <td>196.0</td>\n",
              "      <td>814</td>\n",
              "      <td>oi oi e partir pra luta sua vida e após presid...</td>\n",
              "      <td>1</td>\n",
              "    </tr>\n",
              "    <tr>\n",
              "      <th>3</th>\n",
              "      <td>_kGgQToWUNA</td>\n",
              "      <td>Bolsonaro fala sobre PL, Sabatina, Voto Eletrô...</td>\n",
              "      <td>Foco do Brasil</td>\n",
              "      <td>2021-11-09T13:16:17Z</td>\n",
              "      <td>As notícias e ações do Presidente Jair Bolsona...</td>\n",
              "      <td>45168.0</td>\n",
              "      <td>434220</td>\n",
              "      <td>696.0</td>\n",
              "      <td>2580</td>\n",
              "      <td>Bom [Música] dia [Música] eu também fazer o qu...</td>\n",
              "      <td>1</td>\n",
              "    </tr>\n",
              "    <tr>\n",
              "      <th>4</th>\n",
              "      <td>nNYzVzCPXBY</td>\n",
              "      <td>Bolsonaro fala em encontro com a Globo em 2022...</td>\n",
              "      <td>Foco do Brasil</td>\n",
              "      <td>2021-11-22T23:26:53Z</td>\n",
              "      <td>As notícias e ações do Presidente Jair Bolsona...</td>\n",
              "      <td>27599.0</td>\n",
              "      <td>224756</td>\n",
              "      <td>334.0</td>\n",
              "      <td>1694</td>\n",
              "      <td>E aí [Música] E aí E [Música] olha que Lou Oi ...</td>\n",
              "      <td>1</td>\n",
              "    </tr>\n",
              "  </tbody>\n",
              "</table>\n",
              "</div>"
            ],
            "text/plain": [
              "             id  ... label\n",
              "0   iBkc0ZhnKNk  ...     1\n",
              "1   jKRLLlRH7u4  ...     1\n",
              "2   LIGimPNbkNg  ...     1\n",
              "3   _kGgQToWUNA  ...     1\n",
              "4   nNYzVzCPXBY  ...     1\n",
              "\n",
              "[5 rows x 11 columns]"
            ]
          },
          "metadata": {},
          "execution_count": 8
        }
      ]
    },
    {
      "cell_type": "code",
      "metadata": {
        "colab": {
          "base_uri": "https://localhost:8080/",
          "height": 103
        },
        "id": "4bv1oo_bxwrD",
        "outputId": "c05f1feb-fffb-466b-9816-8682ba8fe9f7"
      },
      "source": [
        "df_1.captions.values[0]"
      ],
      "execution_count": null,
      "outputs": [
        {
          "output_type": "execute_result",
          "data": {
            "application/vnd.google.colaboratory.intrinsic+json": {
              "type": "string"
            },
            "text/plain": [
              "'eb1 [Música] E aí Maurício Olha o céu vou ensinar a jogar vôlei que a senhora tá meio devagar hein [Música] [Risadas] nós vamos fazer essa você que vou sair candidato deputado federal e o prefeito eleito de 71 anos filho Olha moça Oi bom dia Sérgio tudo bem e 48 vai filha o meu Deus obrigado a e olha a gente vai ter que não mas você vai que vai sorrir você achou no sábado e que Deus abençoe vai vir vai você vem você certinho o e obrigado tirava mental do Estado do Rio de Janeiro continua em seu apoio inclusivas veteranos Total apoio ao senhor tá ela dá umas hoje eu vou dar uma carona até pena eu sou reformados os adiante veteranos da Polícia Militar quatro do batalhão bar é servido a maré vermelha 2232 serviço sete anos a última gestão Coronel Álvaro García a ver é E servir no sexto Batalhão servindo 14º Batalhão e finalizei quando tiver um câncer né em 2013 Sou um Milagre igual sua fui curado em 2016 ou reformados ele 46 nódulos do pescoço as partes da liderança e apoia o senhor em todos esses batalhões graças a Deus tem um nome tá bom Deus continue abençoando o senhor segurando firme nas suas mãos do Ceará sou amigo do das Cavalcanti a E [Música] aí ó o nosso presente toda a mais linda música cantada por gentileza Pedro II e olha seu amigo aí o produto lá na frente o cavalo Paraná Fátima para lubrificar vou usar agora tá fechada lá estamos trabalhando tem uns 10 produtos pelos 81 E aí ó olha para fazer uma oração Vamos fazer uma oração aqui senhor Deus é eterno Pai que estáis no céus muito obrigado porque aqui temos uma pessoa que assumiu o poder por tua graça e misericórdia e quero senhor neste momento pedir uma benção sobre ele sobre a sua família e sobre todo o seu ministério para que ele tenha sabedoria discernimento humildade e poder senhor para dirigir Esta Nação é muito obrigado em Cristo Jesus amém e E aí eu é que não Paulo para Campinas e [Risadas] é um abraço e tem até 40 anos já vai [Risadas] começar segunda-feira a [Risadas] E aí o maior presidente da história do Cruzeiro foi boa não é a entender sim alma para mim tira uma vez aqui ó E aí E aí o meu celular agora agora não é oh alô aqui para dar uma força aí dá uma ...'"
            ]
          },
          "metadata": {},
          "execution_count": 9
        }
      ]
    },
    {
      "cell_type": "markdown",
      "metadata": {
        "id": "LCXqEe8R4U0z"
      },
      "source": [
        "###Concatenar dataframes"
      ]
    },
    {
      "cell_type": "code",
      "metadata": {
        "colab": {
          "base_uri": "https://localhost:8080/",
          "height": 289
        },
        "id": "6mZ7hb5P4UgQ",
        "outputId": "51d60988-fd7e-4df0-ad21-6c37f58a39f4"
      },
      "source": [
        "df = pd.concat([df_1,df_2])\n",
        "df.head(5)"
      ],
      "execution_count": null,
      "outputs": [
        {
          "output_type": "execute_result",
          "data": {
            "text/html": [
              "<div>\n",
              "<style scoped>\n",
              "    .dataframe tbody tr th:only-of-type {\n",
              "        vertical-align: middle;\n",
              "    }\n",
              "\n",
              "    .dataframe tbody tr th {\n",
              "        vertical-align: top;\n",
              "    }\n",
              "\n",
              "    .dataframe thead th {\n",
              "        text-align: right;\n",
              "    }\n",
              "</style>\n",
              "<table border=\"1\" class=\"dataframe\">\n",
              "  <thead>\n",
              "    <tr style=\"text-align: right;\">\n",
              "      <th></th>\n",
              "      <th>id</th>\n",
              "      <th>title</th>\n",
              "      <th>channel</th>\n",
              "      <th>date_p</th>\n",
              "      <th>description</th>\n",
              "      <th>views</th>\n",
              "      <th>likes</th>\n",
              "      <th>dislikes</th>\n",
              "      <th>comments</th>\n",
              "      <th>captions</th>\n",
              "      <th>label</th>\n",
              "    </tr>\n",
              "  </thead>\n",
              "  <tbody>\n",
              "    <tr>\n",
              "      <th>0</th>\n",
              "      <td>iBkc0ZhnKNk</td>\n",
              "      <td>Bolsonaro fala sobre Semipresidencialismo, Car...</td>\n",
              "      <td>Foco do Brasil</td>\n",
              "      <td>2021-11-22T12:56:43Z</td>\n",
              "      <td>As notícias e ações do Presidente Jair Bolsona...</td>\n",
              "      <td>54796.0</td>\n",
              "      <td>430962</td>\n",
              "      <td>592.0</td>\n",
              "      <td>3871</td>\n",
              "      <td>eb1 [Música] E aí Maurício Olha o céu vou ensi...</td>\n",
              "      <td>1</td>\n",
              "    </tr>\n",
              "    <tr>\n",
              "      <th>1</th>\n",
              "      <td>jKRLLlRH7u4</td>\n",
              "      <td>Bolsonaro diz que Moro não aprendeu nada, fala...</td>\n",
              "      <td>Foco do Brasil</td>\n",
              "      <td>2021-11-11T13:04:06Z</td>\n",
              "      <td>As notícias e ações do Presidente Jair Bolsona...</td>\n",
              "      <td>20476.0</td>\n",
              "      <td>124783</td>\n",
              "      <td>231.0</td>\n",
              "      <td>1449</td>\n",
              "      <td>o presidente acompanhada por que a imprensa nã...</td>\n",
              "      <td>1</td>\n",
              "    </tr>\n",
              "    <tr>\n",
              "      <th>2</th>\n",
              "      <td>LIGimPNbkNg</td>\n",
              "      <td>- Entrevista: Rádio Cultura FM (ES)</td>\n",
              "      <td>Jair Bolsonaro</td>\n",
              "      <td>2021-11-10T13:13:06Z</td>\n",
              "      <td>TEMAS: . A VERDADE SOBRE PRECATÓRIOS . GÁS DE ...</td>\n",
              "      <td>12779.0</td>\n",
              "      <td>49091</td>\n",
              "      <td>196.0</td>\n",
              "      <td>814</td>\n",
              "      <td>oi oi e partir pra luta sua vida e após presid...</td>\n",
              "      <td>1</td>\n",
              "    </tr>\n",
              "    <tr>\n",
              "      <th>3</th>\n",
              "      <td>_kGgQToWUNA</td>\n",
              "      <td>Bolsonaro fala sobre PL, Sabatina, Voto Eletrô...</td>\n",
              "      <td>Foco do Brasil</td>\n",
              "      <td>2021-11-09T13:16:17Z</td>\n",
              "      <td>As notícias e ações do Presidente Jair Bolsona...</td>\n",
              "      <td>45168.0</td>\n",
              "      <td>434220</td>\n",
              "      <td>696.0</td>\n",
              "      <td>2580</td>\n",
              "      <td>Bom [Música] dia [Música] eu também fazer o qu...</td>\n",
              "      <td>1</td>\n",
              "    </tr>\n",
              "    <tr>\n",
              "      <th>4</th>\n",
              "      <td>nNYzVzCPXBY</td>\n",
              "      <td>Bolsonaro fala em encontro com a Globo em 2022...</td>\n",
              "      <td>Foco do Brasil</td>\n",
              "      <td>2021-11-22T23:26:53Z</td>\n",
              "      <td>As notícias e ações do Presidente Jair Bolsona...</td>\n",
              "      <td>27599.0</td>\n",
              "      <td>224756</td>\n",
              "      <td>334.0</td>\n",
              "      <td>1694</td>\n",
              "      <td>E aí [Música] E aí E [Música] olha que Lou Oi ...</td>\n",
              "      <td>1</td>\n",
              "    </tr>\n",
              "  </tbody>\n",
              "</table>\n",
              "</div>"
            ],
            "text/plain": [
              "             id  ... label\n",
              "0   iBkc0ZhnKNk  ...     1\n",
              "1   jKRLLlRH7u4  ...     1\n",
              "2   LIGimPNbkNg  ...     1\n",
              "3   _kGgQToWUNA  ...     1\n",
              "4   nNYzVzCPXBY  ...     1\n",
              "\n",
              "[5 rows x 11 columns]"
            ]
          },
          "metadata": {},
          "execution_count": 10
        }
      ]
    },
    {
      "cell_type": "markdown",
      "metadata": {
        "id": "P5oigM0d_uWz"
      },
      "source": [
        "###Divisao Treino/Teste"
      ]
    },
    {
      "cell_type": "code",
      "metadata": {
        "id": "9c4gGd8IAINx"
      },
      "source": [
        "y = df['label']\n",
        "X = df['captions']"
      ],
      "execution_count": null,
      "outputs": []
    },
    {
      "cell_type": "code",
      "metadata": {
        "id": "TjM0607K_uGx"
      },
      "source": [
        "from sklearn.model_selection import train_test_split\n",
        "\n",
        "X_train, X_test, y_train, y_test = train_test_split(X, y, test_size=0.3,random_state=43)"
      ],
      "execution_count": null,
      "outputs": []
    },
    {
      "cell_type": "markdown",
      "metadata": {
        "id": "0SBBKMtF38gf"
      },
      "source": [
        "###Tokenizar"
      ]
    },
    {
      "cell_type": "code",
      "metadata": {
        "id": "5tw1Kpym7Cu5"
      },
      "source": [
        "import numpy as np\n",
        "import pandas as pd\n",
        "import tensorflow as tf\n",
        "import matplotlib.pyplot as plt\n",
        "import seaborn as sns\n",
        "import logging\n",
        "plt.style.use('fivethirtyeight')\n",
        "\n",
        "from tensorflow.keras.preprocessing.text import Tokenizer\n",
        "from tensorflow.keras.preprocessing.sequence import pad_sequences\n",
        "from tensorflow.keras.layers import Dense, Flatten, Embedding, LSTM, GRU\n",
        "from tensorflow.keras.models import Sequential"
      ],
      "execution_count": null,
      "outputs": []
    },
    {
      "cell_type": "code",
      "metadata": {
        "id": "zxZaKr5L4BcF"
      },
      "source": [
        "texts = X_train"
      ],
      "execution_count": null,
      "outputs": []
    },
    {
      "cell_type": "code",
      "metadata": {
        "id": "iGASnRRr7s_A"
      },
      "source": [
        "data = np.array(y_train)"
      ],
      "execution_count": null,
      "outputs": []
    },
    {
      "cell_type": "code",
      "metadata": {
        "colab": {
          "base_uri": "https://localhost:8080/"
        },
        "id": "rEupdRQL7pMS",
        "outputId": "2174e9d4-a371-4230-fff3-117cc2ad5836"
      },
      "source": [
        "maxlen = 10000 \n",
        "max_words = 30000 \n",
        "\n",
        "tokenizer = Tokenizer(num_words=max_words) \n",
        "tokenizer.fit_on_texts(texts)\n",
        "\n",
        "seq = tokenizer.texts_to_sequences(texts)\n",
        "\n",
        "word_index = tokenizer.word_index\n",
        "\n",
        "padded_seq = np.array(pad_sequences(seq,maxlen=maxlen))"
      ],
      "execution_count": null,
      "outputs": [
        {
          "output_type": "stream",
          "name": "stdout",
          "text": [
            "Converting data to Sequences\n",
            "Data converted to Sequences...\n"
          ]
        }
      ]
    },
    {
      "cell_type": "code",
      "metadata": {
        "id": "q2F2-6ai42Fx"
      },
      "source": [
        "model = Sequential()\n",
        "embedding = Embedding(max_words, 32, input_length = maxlen, name='embedding')\n",
        "model.add(embedding)\n",
        "model.add(LSTM(32))\n",
        "model.add(Flatten())\n",
        "model.add(Dense(1,activation='sigmoid'))"
      ],
      "execution_count": null,
      "outputs": []
    },
    {
      "cell_type": "code",
      "metadata": {
        "colab": {
          "base_uri": "https://localhost:8080/"
        },
        "id": "ndsLFDC66da_",
        "outputId": "9f21db9d-9827-47e8-af86-c31bc2c4db75"
      },
      "source": [
        "model.compile(optimizer='rmsprop',loss='binary_crossentropy',metrics=['acc'])\n",
        "\n",
        "history = model.fit(padded_seq,np.asarray(data).astype(np.uint8),epochs=20,validation_split=0.1)"
      ],
      "execution_count": null,
      "outputs": [
        {
          "output_type": "stream",
          "name": "stdout",
          "text": [
            "Epoch 1/20\n",
            "1/1 [==============================] - 16s 16s/step - loss: 0.6937 - acc: 0.5161 - val_loss: 0.7056 - val_acc: 0.0000e+00\n",
            "Epoch 2/20\n",
            "1/1 [==============================] - 12s 12s/step - loss: 0.6811 - acc: 0.6774 - val_loss: 0.7188 - val_acc: 0.0000e+00\n",
            "Epoch 3/20\n",
            "1/1 [==============================] - 12s 12s/step - loss: 0.6692 - acc: 0.6129 - val_loss: 0.7358 - val_acc: 0.0000e+00\n",
            "Epoch 4/20\n",
            "1/1 [==============================] - 12s 12s/step - loss: 0.6535 - acc: 0.6129 - val_loss: 0.7615 - val_acc: 0.0000e+00\n",
            "Epoch 5/20\n",
            "1/1 [==============================] - 12s 12s/step - loss: 0.6307 - acc: 0.6129 - val_loss: 0.8109 - val_acc: 0.0000e+00\n",
            "Epoch 6/20\n",
            "1/1 [==============================] - 12s 12s/step - loss: 0.5916 - acc: 0.6129 - val_loss: 0.9833 - val_acc: 0.0000e+00\n",
            "Epoch 7/20\n",
            "1/1 [==============================] - 12s 12s/step - loss: 0.5107 - acc: 0.6129 - val_loss: 1.6222 - val_acc: 0.0000e+00\n",
            "Epoch 8/20\n",
            "1/1 [==============================] - 12s 12s/step - loss: 0.5820 - acc: 0.6129 - val_loss: 0.7202 - val_acc: 0.2500\n",
            "Epoch 9/20\n",
            "1/1 [==============================] - 12s 12s/step - loss: 0.4969 - acc: 1.0000 - val_loss: 0.7436 - val_acc: 0.0000e+00\n",
            "Epoch 10/20\n",
            "1/1 [==============================] - 12s 12s/step - loss: 0.4480 - acc: 1.0000 - val_loss: 0.7838 - val_acc: 0.0000e+00\n",
            "Epoch 11/20\n",
            "1/1 [==============================] - 12s 12s/step - loss: 0.3919 - acc: 1.0000 - val_loss: 0.8570 - val_acc: 0.0000e+00\n",
            "Epoch 12/20\n",
            "1/1 [==============================] - 12s 12s/step - loss: 0.3433 - acc: 1.0000 - val_loss: 0.9345 - val_acc: 0.0000e+00\n",
            "Epoch 13/20\n",
            "1/1 [==============================] - 12s 12s/step - loss: 0.3116 - acc: 1.0000 - val_loss: 0.9977 - val_acc: 0.0000e+00\n",
            "Epoch 14/20\n",
            "1/1 [==============================] - 12s 12s/step - loss: 0.2873 - acc: 1.0000 - val_loss: 1.0955 - val_acc: 0.0000e+00\n",
            "Epoch 15/20\n",
            "1/1 [==============================] - 12s 12s/step - loss: 0.2672 - acc: 1.0000 - val_loss: 1.3344 - val_acc: 0.0000e+00\n",
            "Epoch 16/20\n",
            "1/1 [==============================] - 12s 12s/step - loss: 0.2504 - acc: 1.0000 - val_loss: 1.5395 - val_acc: 0.0000e+00\n",
            "Epoch 17/20\n",
            "1/1 [==============================] - 12s 12s/step - loss: 0.2360 - acc: 1.0000 - val_loss: 1.6925 - val_acc: 0.0000e+00\n",
            "Epoch 18/20\n",
            "1/1 [==============================] - 12s 12s/step - loss: 0.2235 - acc: 1.0000 - val_loss: 1.8299 - val_acc: 0.0000e+00\n",
            "Epoch 19/20\n",
            "1/1 [==============================] - 12s 12s/step - loss: 0.2126 - acc: 1.0000 - val_loss: 0.9028 - val_acc: 0.7500\n",
            "Epoch 20/20\n",
            "1/1 [==============================] - 12s 12s/step - loss: 0.2081 - acc: 1.0000 - val_loss: 1.5160 - val_acc: 0.2500\n"
          ]
        }
      ]
    },
    {
      "cell_type": "code",
      "metadata": {
        "id": "UaVLghYsFh9p"
      },
      "source": [
        "def print_curva(H):\n",
        "    plt.figure(figsize=(20,4))\n",
        "    plt.subplot(1,2,1)\n",
        "    plt.plot(H.history['loss'], label='loss')\n",
        "    plt.plot(H.history['val_loss'], label='val_loss')\n",
        "    plt.legend()\n",
        "    plt.title('loss')\n",
        "\n",
        "    plt.subplot(1,2,2)\n",
        "    plt.plot(H.history['acc'], label='acc')\n",
        "    plt.plot(H.history['val_acc'], label='val_acc')\n",
        "    plt.legend()\n",
        "    plt.title('Acc')\n",
        "    plt.show()"
      ],
      "execution_count": null,
      "outputs": []
    },
    {
      "cell_type": "code",
      "metadata": {
        "colab": {
          "base_uri": "https://localhost:8080/",
          "height": 303
        },
        "id": "1dEdhaOKFjW1",
        "outputId": "a2da3baf-c7a7-4bdd-8958-90bca82d9dfb"
      },
      "source": [
        "print_curva(history)"
      ],
      "execution_count": null,
      "outputs": [
        {
          "output_type": "display_data",
          "data": {
            "image/png": "[encoded data removed]",
            "text/plain": [
              "<Figure size 1440x288 with 2 Axes>"
            ]
          },
          "metadata": {}
        }
      ]
    },
    {
      "cell_type": "code",
      "metadata": {
        "id": "ecuEN1mYC2f2"
      },
      "source": [
        "sequences = tokenizer.texts_to_sequences(X_test)\n",
        "X_test = pad_sequences(sequences, maxlen)\n",
        "y_test = np.asarray(y_test)"
      ],
      "execution_count": null,
      "outputs": []
    },
    {
      "cell_type": "code",
      "metadata": {
        "colab": {
          "base_uri": "https://localhost:8080/"
        },
        "id": "Pz7tNqbL8R1G",
        "outputId": "6957f8b6-d5a6-48b4-9691-525ba0102365"
      },
      "source": [
        "test_loss, test_acc = model.evaluate(X_test, y_test)"
      ],
      "execution_count": null,
      "outputs": [
        {
          "output_type": "stream",
          "name": "stdout",
          "text": [
            "1/1 [==============================] - 1s 1s/step - loss: 0.8566 - acc: 0.6667\n"
          ]
        }
      ]
    }
  ]
}